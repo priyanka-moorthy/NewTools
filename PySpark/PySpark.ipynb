{
  "nbformat": 4,
  "nbformat_minor": 0,
  "metadata": {
    "colab": {
      "provenance": [],
      "authorship_tag": "ABX9TyMN4AKDx6zu7n4CJ0GlGrc6",
      "include_colab_link": true
    },
    "kernelspec": {
      "name": "python3",
      "display_name": "Python 3"
    },
    "language_info": {
      "name": "python"
    }
  },
  "cells": [
    {
      "cell_type": "markdown",
      "metadata": {
        "id": "view-in-github",
        "colab_type": "text"
      },
      "source": [
        "<a href=\"https://colab.research.google.com/github/priyanka-moorthy/NewTools/blob/main/PySpark/PySpark.ipynb\" target=\"_parent\"><img src=\"https://colab.research.google.com/assets/colab-badge.svg\" alt=\"Open In Colab\"/></a>"
      ]
    },
    {
      "cell_type": "markdown",
      "source": [
        "# Instalation and Loading"
      ],
      "metadata": {
        "id": "Sdex33TX140l"
      }
    },
    {
      "cell_type": "code",
      "execution_count": 1,
      "metadata": {
        "id": "mHoxxQdO0m16",
        "colab": {
          "base_uri": "https://localhost:8080/"
        },
        "outputId": "9c152e2b-a996-40cd-ad8b-8b42bfe1aa6c"
      },
      "outputs": [
        {
          "output_type": "stream",
          "name": "stdout",
          "text": [
            "Collecting pyspark\n",
            "  Downloading pyspark-3.5.2.tar.gz (317.3 MB)\n",
            "\u001b[2K     \u001b[90m━━━━━━━━━━━━━━━━━━━━━━━━━━━━━━━━━━━━━━━━\u001b[0m \u001b[32m317.3/317.3 MB\u001b[0m \u001b[31m4.7 MB/s\u001b[0m eta \u001b[36m0:00:00\u001b[0m\n",
            "\u001b[?25h  Preparing metadata (setup.py) ... \u001b[?25l\u001b[?25hdone\n",
            "Requirement already satisfied: py4j==0.10.9.7 in /usr/local/lib/python3.10/dist-packages (from pyspark) (0.10.9.7)\n",
            "Building wheels for collected packages: pyspark\n",
            "  Building wheel for pyspark (setup.py) ... \u001b[?25l\u001b[?25hdone\n",
            "  Created wheel for pyspark: filename=pyspark-3.5.2-py2.py3-none-any.whl size=317812365 sha256=3d10330d17d8f150008e96dd4347233a534b2f2d50478643d1470f01e25cb1b2\n",
            "  Stored in directory: /root/.cache/pip/wheels/34/34/bd/03944534c44b677cd5859f248090daa9fb27b3c8f8e5f49574\n",
            "Successfully built pyspark\n",
            "Installing collected packages: pyspark\n",
            "Successfully installed pyspark-3.5.2\n"
          ]
        }
      ],
      "source": [
        "!pip install pyspark"
      ]
    },
    {
      "cell_type": "code",
      "source": [
        "import pyspark\n",
        "\n",
        "from pyspark.sql import SparkSession\n",
        "spark = SparkSession.builder.appName('SparkHelloWorld').getOrCreate()\n",
        "spark"
      ],
      "metadata": {
        "colab": {
          "base_uri": "https://localhost:8080/",
          "height": 221
        },
        "id": "rGVnY6p4id6D",
        "outputId": "9810daee-e3cd-4ce8-9bac-1ec6fd5bb270"
      },
      "execution_count": 2,
      "outputs": [
        {
          "output_type": "execute_result",
          "data": {
            "text/plain": [
              "<pyspark.sql.session.SparkSession at 0x7a270165a170>"
            ],
            "text/html": [
              "\n",
              "            <div>\n",
              "                <p><b>SparkSession - in-memory</b></p>\n",
              "                \n",
              "        <div>\n",
              "            <p><b>SparkContext</b></p>\n",
              "\n",
              "            <p><a href=\"http://d4030f66da65:4040\">Spark UI</a></p>\n",
              "\n",
              "            <dl>\n",
              "              <dt>Version</dt>\n",
              "                <dd><code>v3.5.2</code></dd>\n",
              "              <dt>Master</dt>\n",
              "                <dd><code>local[*]</code></dd>\n",
              "              <dt>AppName</dt>\n",
              "                <dd><code>SparkHelloWorld</code></dd>\n",
              "            </dl>\n",
              "        </div>\n",
              "        \n",
              "            </div>\n",
              "        "
            ]
          },
          "metadata": {},
          "execution_count": 2
        }
      ]
    },
    {
      "cell_type": "markdown",
      "source": [
        "# Create Dataframe"
      ],
      "metadata": {
        "id": "Fnjx-BK82J6E"
      }
    },
    {
      "cell_type": "code",
      "source": [
        "# create df\n",
        "df = spark.createDataFrame([\n",
        "    {\"deptId\": 1, \"age\": 40, \"name\": \"Hyukjin Kwon\", \"gender\": \"M\", \"salary\": 50},\n",
        "    {\"deptId\": 1, \"age\": 50, \"name\": \"Takuya Ueshin\", \"gender\": \"M\", \"salary\": 100},\n",
        "    {\"deptId\": 2, \"age\": 60, \"name\": \"Xinrong Meng\", \"gender\": \"F\", \"salary\": 150},\n",
        "    {\"deptId\": 3, \"age\": 20, \"name\": \"Haejoon Lee\", \"gender\": \"M\", \"salary\": 200}\n",
        "])"
      ],
      "metadata": {
        "id": "cOxji4aJ0Y7m"
      },
      "execution_count": 3,
      "outputs": []
    },
    {
      "cell_type": "code",
      "source": [
        "df.show()"
      ],
      "metadata": {
        "colab": {
          "base_uri": "https://localhost:8080/"
        },
        "id": "qRHzLL8U1Rof",
        "outputId": "7a221da3-e382-45aa-a178-e59d838f0a43"
      },
      "execution_count": 9,
      "outputs": [
        {
          "output_type": "stream",
          "name": "stdout",
          "text": [
            "+---+------+------+-------------+------+\n",
            "|age|deptId|gender|         name|salary|\n",
            "+---+------+------+-------------+------+\n",
            "| 40|     1|     M| Hyukjin Kwon|    50|\n",
            "| 50|     1|     M|Takuya Ueshin|   100|\n",
            "| 60|     2|     F| Xinrong Meng|   150|\n",
            "| 20|     3|     M|  Haejoon Lee|   200|\n",
            "+---+------+------+-------------+------+\n",
            "\n"
          ]
        }
      ]
    },
    {
      "cell_type": "code",
      "source": [
        "df.printSchema()"
      ],
      "metadata": {
        "colab": {
          "base_uri": "https://localhost:8080/"
        },
        "id": "q_Xz8BFe1cNB",
        "outputId": "53a50834-3157-4b52-a4f8-187d0d4fb8e4"
      },
      "execution_count": 12,
      "outputs": [
        {
          "output_type": "stream",
          "name": "stdout",
          "text": [
            "root\n",
            " |-- age: long (nullable = true)\n",
            " |-- deptId: long (nullable = true)\n",
            " |-- gender: string (nullable = true)\n",
            " |-- name: string (nullable = true)\n",
            " |-- salary: long (nullable = true)\n",
            "\n"
          ]
        }
      ]
    },
    {
      "cell_type": "markdown",
      "source": [
        "# Manupilating Dataframes"
      ],
      "metadata": {
        "id": "qSyFMzZv1w6I"
      }
    },
    {
      "cell_type": "code",
      "source": [
        "df.columns"
      ],
      "metadata": {
        "colab": {
          "base_uri": "https://localhost:8080/"
        },
        "id": "L8_dmLtC11aW",
        "outputId": "3c309844-fbab-4a2e-86a6-8e333c2be3ca"
      },
      "execution_count": 13,
      "outputs": [
        {
          "output_type": "execute_result",
          "data": {
            "text/plain": [
              "['age', 'deptId', 'gender', 'name', 'salary']"
            ]
          },
          "metadata": {},
          "execution_count": 13
        }
      ]
    },
    {
      "cell_type": "code",
      "source": [
        "df.select('name').show()"
      ],
      "metadata": {
        "colab": {
          "base_uri": "https://localhost:8080/"
        },
        "id": "yhAWL76e2qsY",
        "outputId": "7c170034-23fe-4e89-9a2d-a43fdd90853e"
      },
      "execution_count": 16,
      "outputs": [
        {
          "output_type": "stream",
          "name": "stdout",
          "text": [
            "+-------------+\n",
            "|         name|\n",
            "+-------------+\n",
            "| Hyukjin Kwon|\n",
            "|Takuya Ueshin|\n",
            "| Xinrong Meng|\n",
            "|  Haejoon Lee|\n",
            "+-------------+\n",
            "\n"
          ]
        }
      ]
    },
    {
      "cell_type": "code",
      "source": [
        "df.select(['name', 'age']).show()"
      ],
      "metadata": {
        "colab": {
          "base_uri": "https://localhost:8080/"
        },
        "id": "PWvafz152Z-n",
        "outputId": "b46ae274-323d-4e74-fbf5-0a5a628ca618"
      },
      "execution_count": 15,
      "outputs": [
        {
          "output_type": "stream",
          "name": "stdout",
          "text": [
            "+-------------+---+\n",
            "|         name|age|\n",
            "+-------------+---+\n",
            "| Hyukjin Kwon| 40|\n",
            "|Takuya Ueshin| 50|\n",
            "| Xinrong Meng| 60|\n",
            "|  Haejoon Lee| 20|\n",
            "+-------------+---+\n",
            "\n"
          ]
        }
      ]
    },
    {
      "cell_type": "code",
      "source": [
        "df['name']"
      ],
      "metadata": {
        "colab": {
          "base_uri": "https://localhost:8080/"
        },
        "id": "FMVkbNee2uC9",
        "outputId": "f4c58ba3-fbf5-43ed-9577-86e1c6feafe0"
      },
      "execution_count": 17,
      "outputs": [
        {
          "output_type": "execute_result",
          "data": {
            "text/plain": [
              "Column<'name'>"
            ]
          },
          "metadata": {},
          "execution_count": 17
        }
      ]
    },
    {
      "cell_type": "code",
      "source": [
        "df.dtypes"
      ],
      "metadata": {
        "colab": {
          "base_uri": "https://localhost:8080/"
        },
        "id": "2svR6ARs2yx8",
        "outputId": "b34357d6-79f0-4e45-f7cb-13f093baad3a"
      },
      "execution_count": 18,
      "outputs": [
        {
          "output_type": "execute_result",
          "data": {
            "text/plain": [
              "[('age', 'bigint'),\n",
              " ('deptId', 'bigint'),\n",
              " ('gender', 'string'),\n",
              " ('name', 'string'),\n",
              " ('salary', 'bigint')]"
            ]
          },
          "metadata": {},
          "execution_count": 18
        }
      ]
    },
    {
      "cell_type": "code",
      "source": [
        "df.describe().show()"
      ],
      "metadata": {
        "colab": {
          "base_uri": "https://localhost:8080/"
        },
        "id": "mVc-Tooa2_Ye",
        "outputId": "1be9fe4c-0fbe-4ff1-e596-8be7b25d3fff"
      },
      "execution_count": 19,
      "outputs": [
        {
          "output_type": "stream",
          "name": "stdout",
          "text": [
            "+-------+-----------------+------------------+------+------------+-----------------+\n",
            "|summary|              age|            deptId|gender|        name|           salary|\n",
            "+-------+-----------------+------------------+------+------------+-----------------+\n",
            "|  count|                4|                 4|     4|           4|                4|\n",
            "|   mean|             42.5|              1.75|  NULL|        NULL|            125.0|\n",
            "| stddev|17.07825127659933|0.9574271077563381|  NULL|        NULL|64.54972243679029|\n",
            "|    min|               20|                 1|     F| Haejoon Lee|               50|\n",
            "|    max|               60|                 3|     M|Xinrong Meng|              200|\n",
            "+-------+-----------------+------------------+------+------------+-----------------+\n",
            "\n"
          ]
        }
      ]
    },
    {
      "cell_type": "code",
      "source": [
        "df = df.withColumn('increment', df['salary']+(0.10 * df['salary']))"
      ],
      "metadata": {
        "id": "k-rxEWXg3HRm"
      },
      "execution_count": 23,
      "outputs": []
    },
    {
      "cell_type": "code",
      "source": [
        "df.show()"
      ],
      "metadata": {
        "colab": {
          "base_uri": "https://localhost:8080/"
        },
        "id": "lj3kxmZb3sd_",
        "outputId": "7ec88dd2-a2a7-4fbb-fb3a-edbcdc89d15a"
      },
      "execution_count": 25,
      "outputs": [
        {
          "output_type": "stream",
          "name": "stdout",
          "text": [
            "+---+------+------+-------------+------+---------+\n",
            "|age|deptId|gender|         name|salary|increment|\n",
            "+---+------+------+-------------+------+---------+\n",
            "| 40|     1|     M| Hyukjin Kwon|    50|     55.0|\n",
            "| 50|     1|     M|Takuya Ueshin|   100|    110.0|\n",
            "| 60|     2|     F| Xinrong Meng|   150|    165.0|\n",
            "| 20|     3|     M|  Haejoon Lee|   200|    220.0|\n",
            "+---+------+------+-------------+------+---------+\n",
            "\n"
          ]
        }
      ]
    },
    {
      "cell_type": "code",
      "source": [
        "df = df.drop('increment')"
      ],
      "metadata": {
        "id": "H-dAoP_K6RgZ"
      },
      "execution_count": 27,
      "outputs": []
    },
    {
      "cell_type": "code",
      "source": [
        "df = df.withColumnRenamed('gender','sex')"
      ],
      "metadata": {
        "id": "XokS0yZy6bs2"
      },
      "execution_count": 30,
      "outputs": []
    },
    {
      "cell_type": "code",
      "source": [
        "df.show()"
      ],
      "metadata": {
        "colab": {
          "base_uri": "https://localhost:8080/"
        },
        "id": "JZLnEGyf6o_q",
        "outputId": "6360b055-fb26-4e12-fb30-5f95e2bd38a8"
      },
      "execution_count": 31,
      "outputs": [
        {
          "output_type": "stream",
          "name": "stdout",
          "text": [
            "+---+------+---+-------------+------+\n",
            "|age|deptId|sex|         name|salary|\n",
            "+---+------+---+-------------+------+\n",
            "| 40|     1|  M| Hyukjin Kwon|    50|\n",
            "| 50|     1|  M|Takuya Ueshin|   100|\n",
            "| 60|     2|  F| Xinrong Meng|   150|\n",
            "| 20|     3|  M|  Haejoon Lee|   200|\n",
            "+---+------+---+-------------+------+\n",
            "\n"
          ]
        }
      ]
    },
    {
      "cell_type": "markdown",
      "source": [
        "# Handling Missing Values"
      ],
      "metadata": {
        "id": "zVUL0X4O64KB"
      }
    },
    {
      "cell_type": "code",
      "source": [],
      "metadata": {
        "id": "e1WveXXo682J"
      },
      "execution_count": null,
      "outputs": []
    }
  ]
}